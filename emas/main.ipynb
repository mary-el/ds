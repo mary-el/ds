{
 "cells": [
  {
   "cell_type": "markdown",
   "id": "e0a82ca2-9a13-41f6-a1a8-b8087cbc4f0e",
   "metadata": {},
   "source": [
    "# Beer Demand Prediction\n",
    "## About data: \n",
    "Our customer is a large beverages producer. The file contains historical weekly sales quantity, \n",
    "sales value, price and promotion data for beer products (stock keeping units - SKUs) within 1 retail \n",
    "megastore for 7 years. \n",
    "* there are 98 different products (SKUs) \n",
    "* promotion data includes 3 types of in-store promotions: promo price, promo displays and \n",
    "catalogs. The promotions are expected to increase sales (but not guaranteed). The latter 2 \n",
    "types also have different sub-types as defined in the dictionary \n",
    "* the raw data has been pre-processed so there is no need for data cleaning step \n",
    "* we also collected information on significant holiday events as the sales may \n",
    "increase/decrease on or around them   \n",
    "## The goal: \n",
    "* come up with the best model for demand prediction (for sales quantity) \n",
    "## Additional information: \n",
    "* please provide preferred model for demand forecast for a subset of SKUs (5-10 of them, at \n",
    "your choice) \n",
    "* feel free to construct additional features from the variables provided if it helps \n",
    "* you don’t need to use all provided features \n",
    "* this is generally time series problem \n",
    "* ideally we would like to obtain also a measure of price elasticity (sensitivity of sales to a \n",
    "measure of price change) within the forecasting model \n",
    "* please send us the results as a Jupyter notebook or in your preferred format"
   ]
  },
  {
   "cell_type": "code",
   "execution_count": 1,
   "id": "51c991da-69a3-45a7-ab18-bbb77924b228",
   "metadata": {},
   "outputs": [
    {
     "name": "stdout",
     "output_type": "stream",
     "text": [
      "Requirement already satisfied: openpyxl in c:\\users\\mpiliugina\\anaconda3\\lib\\site-packages (3.1.0)\n",
      "Requirement already satisfied: statsmodels in c:\\users\\mpiliugina\\anaconda3\\lib\\site-packages (0.13.5)\n",
      "Requirement already satisfied: xgboost in c:\\users\\mpiliugina\\anaconda3\\lib\\site-packages (1.7.3)\n",
      "Requirement already satisfied: et-xmlfile in c:\\users\\mpiliugina\\anaconda3\\lib\\site-packages (from openpyxl) (1.1.0)\n",
      "Requirement already satisfied: pandas>=0.25 in c:\\users\\mpiliugina\\anaconda3\\lib\\site-packages (from statsmodels) (1.4.1)\n",
      "Requirement already satisfied: packaging>=21.3 in c:\\users\\mpiliugina\\anaconda3\\lib\\site-packages (from statsmodels) (21.3)\n",
      "Requirement already satisfied: numpy>=1.17 in c:\\users\\mpiliugina\\appdata\\roaming\\python\\python38\\site-packages (from statsmodels) (1.22.4)\n",
      "Requirement already satisfied: patsy>=0.5.2 in c:\\users\\mpiliugina\\anaconda3\\lib\\site-packages (from statsmodels) (0.5.3)\n",
      "Requirement already satisfied: scipy>=1.3 in c:\\users\\mpiliugina\\anaconda3\\lib\\site-packages (from statsmodels) (1.8.0)\n",
      "Requirement already satisfied: pyparsing!=3.0.5,>=2.0.2 in c:\\users\\mpiliugina\\anaconda3\\lib\\site-packages (from packaging>=21.3->statsmodels) (3.0.4)\n",
      "Requirement already satisfied: python-dateutil>=2.8.1 in c:\\users\\mpiliugina\\anaconda3\\lib\\site-packages (from pandas>=0.25->statsmodels) (2.8.2)\n",
      "Requirement already satisfied: pytz>=2020.1 in c:\\users\\mpiliugina\\anaconda3\\lib\\site-packages (from pandas>=0.25->statsmodels) (2021.3)\n",
      "Requirement already satisfied: six in c:\\users\\mpiliugina\\anaconda3\\lib\\site-packages (from patsy>=0.5.2->statsmodels) (1.16.0)\n"
     ]
    }
   ],
   "source": [
    "!pip install openpyxl statsmodels xgboost"
   ]
  },
  {
   "cell_type": "code",
   "execution_count": 2,
   "id": "8904b395-c6a0-443f-b32c-8f8d5e4993cc",
   "metadata": {},
   "outputs": [],
   "source": [
    "import matplotlib.pyplot as plt\n",
    "import numpy as np\n",
    "import pandas as pd\n",
    "import random\n",
    "import seaborn as sns"
   ]
  },
  {
   "cell_type": "markdown",
   "id": "a4c7bb2f-a0ea-4d57-8d42-b566998d6e12",
   "metadata": {},
   "source": [
    "Let's take a look at the data:"
   ]
  },
  {
   "cell_type": "code",
   "execution_count": 3,
   "id": "b7fbe9f5-a414-4dcc-b041-e54ccc40c6d0",
   "metadata": {},
   "outputs": [
    {
     "data": {
      "text/html": [
       "<div>\n",
       "<style scoped>\n",
       "    .dataframe tbody tr th:only-of-type {\n",
       "        vertical-align: middle;\n",
       "    }\n",
       "\n",
       "    .dataframe tbody tr th {\n",
       "        vertical-align: top;\n",
       "    }\n",
       "\n",
       "    .dataframe thead th {\n",
       "        text-align: right;\n",
       "    }\n",
       "</style>\n",
       "<table border=\"1\" class=\"dataframe\">\n",
       "  <thead>\n",
       "    <tr style=\"text-align: right;\">\n",
       "      <th></th>\n",
       "      <th>product</th>\n",
       "      <th>week_no</th>\n",
       "      <th>year</th>\n",
       "      <th>month</th>\n",
       "      <th>salesQ</th>\n",
       "      <th>price</th>\n",
       "      <th>revenue</th>\n",
       "      <th>promo_price</th>\n",
       "      <th>display_1</th>\n",
       "      <th>display_2</th>\n",
       "      <th>...</th>\n",
       "      <th>catalog_3</th>\n",
       "      <th>catalog_4</th>\n",
       "      <th>time.Halloween</th>\n",
       "      <th>time.Thanksgiving</th>\n",
       "      <th>time.Christmas</th>\n",
       "      <th>time.NewYear</th>\n",
       "      <th>time.Easter</th>\n",
       "      <th>time.Memorial</th>\n",
       "      <th>time.X4thJuly</th>\n",
       "      <th>time.LabourDay</th>\n",
       "    </tr>\n",
       "  </thead>\n",
       "  <tbody>\n",
       "    <tr>\n",
       "      <th>0</th>\n",
       "      <td>beer.beer_SS1</td>\n",
       "      <td>1</td>\n",
       "      <td>1</td>\n",
       "      <td>Jan</td>\n",
       "      <td>22</td>\n",
       "      <td>5.450909</td>\n",
       "      <td>119.919998</td>\n",
       "      <td>1</td>\n",
       "      <td>1</td>\n",
       "      <td>0</td>\n",
       "      <td>...</td>\n",
       "      <td>0</td>\n",
       "      <td>0</td>\n",
       "      <td>0</td>\n",
       "      <td>0</td>\n",
       "      <td>0</td>\n",
       "      <td>0</td>\n",
       "      <td>0</td>\n",
       "      <td>0</td>\n",
       "      <td>0</td>\n",
       "      <td>0</td>\n",
       "    </tr>\n",
       "    <tr>\n",
       "      <th>1</th>\n",
       "      <td>beer.beer_SS1</td>\n",
       "      <td>2</td>\n",
       "      <td>1</td>\n",
       "      <td>Jan</td>\n",
       "      <td>12</td>\n",
       "      <td>6.450000</td>\n",
       "      <td>77.400000</td>\n",
       "      <td>0</td>\n",
       "      <td>0</td>\n",
       "      <td>0</td>\n",
       "      <td>...</td>\n",
       "      <td>0</td>\n",
       "      <td>0</td>\n",
       "      <td>0</td>\n",
       "      <td>0</td>\n",
       "      <td>0</td>\n",
       "      <td>0</td>\n",
       "      <td>0</td>\n",
       "      <td>0</td>\n",
       "      <td>0</td>\n",
       "      <td>0</td>\n",
       "    </tr>\n",
       "    <tr>\n",
       "      <th>2</th>\n",
       "      <td>beer.beer_SS1</td>\n",
       "      <td>3</td>\n",
       "      <td>1</td>\n",
       "      <td>Jan</td>\n",
       "      <td>11</td>\n",
       "      <td>6.490000</td>\n",
       "      <td>71.390000</td>\n",
       "      <td>0</td>\n",
       "      <td>0</td>\n",
       "      <td>0</td>\n",
       "      <td>...</td>\n",
       "      <td>0</td>\n",
       "      <td>0</td>\n",
       "      <td>0</td>\n",
       "      <td>0</td>\n",
       "      <td>0</td>\n",
       "      <td>0</td>\n",
       "      <td>0</td>\n",
       "      <td>0</td>\n",
       "      <td>0</td>\n",
       "      <td>0</td>\n",
       "    </tr>\n",
       "    <tr>\n",
       "      <th>3</th>\n",
       "      <td>beer.beer_SS1</td>\n",
       "      <td>4</td>\n",
       "      <td>1</td>\n",
       "      <td>Jan</td>\n",
       "      <td>4</td>\n",
       "      <td>6.490000</td>\n",
       "      <td>25.960000</td>\n",
       "      <td>0</td>\n",
       "      <td>0</td>\n",
       "      <td>0</td>\n",
       "      <td>...</td>\n",
       "      <td>0</td>\n",
       "      <td>0</td>\n",
       "      <td>0</td>\n",
       "      <td>0</td>\n",
       "      <td>0</td>\n",
       "      <td>0</td>\n",
       "      <td>0</td>\n",
       "      <td>0</td>\n",
       "      <td>0</td>\n",
       "      <td>0</td>\n",
       "    </tr>\n",
       "    <tr>\n",
       "      <th>4</th>\n",
       "      <td>beer.beer_SS1</td>\n",
       "      <td>5</td>\n",
       "      <td>1</td>\n",
       "      <td>Feb</td>\n",
       "      <td>3</td>\n",
       "      <td>6.490000</td>\n",
       "      <td>19.470000</td>\n",
       "      <td>0</td>\n",
       "      <td>0</td>\n",
       "      <td>0</td>\n",
       "      <td>...</td>\n",
       "      <td>0</td>\n",
       "      <td>0</td>\n",
       "      <td>0</td>\n",
       "      <td>0</td>\n",
       "      <td>0</td>\n",
       "      <td>0</td>\n",
       "      <td>0</td>\n",
       "      <td>0</td>\n",
       "      <td>0</td>\n",
       "      <td>0</td>\n",
       "    </tr>\n",
       "  </tbody>\n",
       "</table>\n",
       "<p>5 rows × 22 columns</p>\n",
       "</div>"
      ],
      "text/plain": [
       "         product  week_no  year month  salesQ     price     revenue  \\\n",
       "0  beer.beer_SS1        1     1   Jan      22  5.450909  119.919998   \n",
       "1  beer.beer_SS1        2     1   Jan      12  6.450000   77.400000   \n",
       "2  beer.beer_SS1        3     1   Jan      11  6.490000   71.390000   \n",
       "3  beer.beer_SS1        4     1   Jan       4  6.490000   25.960000   \n",
       "4  beer.beer_SS1        5     1   Feb       3  6.490000   19.470000   \n",
       "\n",
       "   promo_price  display_1  display_2  ...  catalog_3  catalog_4  \\\n",
       "0            1          1          0  ...          0          0   \n",
       "1            0          0          0  ...          0          0   \n",
       "2            0          0          0  ...          0          0   \n",
       "3            0          0          0  ...          0          0   \n",
       "4            0          0          0  ...          0          0   \n",
       "\n",
       "   time.Halloween  time.Thanksgiving  time.Christmas  time.NewYear  \\\n",
       "0               0                  0               0             0   \n",
       "1               0                  0               0             0   \n",
       "2               0                  0               0             0   \n",
       "3               0                  0               0             0   \n",
       "4               0                  0               0             0   \n",
       "\n",
       "   time.Easter  time.Memorial  time.X4thJuly  time.LabourDay  \n",
       "0            0              0              0               0  \n",
       "1            0              0              0               0  \n",
       "2            0              0              0               0  \n",
       "3            0              0              0               0  \n",
       "4            0              0              0               0  \n",
       "\n",
       "[5 rows x 22 columns]"
      ]
     },
     "execution_count": 3,
     "metadata": {},
     "output_type": "execute_result"
    }
   ],
   "source": [
    "df = pd.read_excel('./demo data.xlsx')\n",
    "df.head()"
   ]
  },
  {
   "cell_type": "code",
   "execution_count": 4,
   "id": "2be42762-ab47-4535-b781-c082a334c14b",
   "metadata": {},
   "outputs": [
    {
     "name": "stdout",
     "output_type": "stream",
     "text": [
      "<class 'pandas.core.frame.DataFrame'>\n",
      "RangeIndex: 35672 entries, 0 to 35671\n",
      "Data columns (total 22 columns):\n",
      " #   Column             Non-Null Count  Dtype  \n",
      "---  ------             --------------  -----  \n",
      " 0   product            35672 non-null  object \n",
      " 1   week_no            35672 non-null  int64  \n",
      " 2   year               35672 non-null  int64  \n",
      " 3   month              35672 non-null  object \n",
      " 4   salesQ             35672 non-null  int64  \n",
      " 5   price              35672 non-null  float64\n",
      " 6   revenue            35672 non-null  float64\n",
      " 7   promo_price        35672 non-null  int64  \n",
      " 8   display_1          35672 non-null  int64  \n",
      " 9   display_2          35672 non-null  int64  \n",
      " 10  catalog_1          35672 non-null  int64  \n",
      " 11  catalog_2          35672 non-null  int64  \n",
      " 12  catalog_3          35672 non-null  int64  \n",
      " 13  catalog_4          35672 non-null  int64  \n",
      " 14  time.Halloween     35672 non-null  int64  \n",
      " 15  time.Thanksgiving  35672 non-null  int64  \n",
      " 16  time.Christmas     35672 non-null  int64  \n",
      " 17  time.NewYear       35672 non-null  int64  \n",
      " 18  time.Easter        35672 non-null  int64  \n",
      " 19  time.Memorial      35672 non-null  int64  \n",
      " 20  time.X4thJuly      35672 non-null  int64  \n",
      " 21  time.LabourDay     35672 non-null  int64  \n",
      "dtypes: float64(2), int64(18), object(2)\n",
      "memory usage: 6.0+ MB\n"
     ]
    }
   ],
   "source": [
    "df.info()"
   ]
  },
  {
   "cell_type": "code",
   "execution_count": 5,
   "id": "b3c5b3bb-38ad-460a-955f-c02a42a1dd4f",
   "metadata": {},
   "outputs": [
    {
     "data": {
      "text/html": [
       "<div>\n",
       "<style scoped>\n",
       "    .dataframe tbody tr th:only-of-type {\n",
       "        vertical-align: middle;\n",
       "    }\n",
       "\n",
       "    .dataframe tbody tr th {\n",
       "        vertical-align: top;\n",
       "    }\n",
       "\n",
       "    .dataframe thead th {\n",
       "        text-align: right;\n",
       "    }\n",
       "</style>\n",
       "<table border=\"1\" class=\"dataframe\">\n",
       "  <thead>\n",
       "    <tr style=\"text-align: right;\">\n",
       "      <th></th>\n",
       "      <th>week_no</th>\n",
       "      <th>year</th>\n",
       "      <th>salesQ</th>\n",
       "      <th>price</th>\n",
       "      <th>revenue</th>\n",
       "      <th>promo_price</th>\n",
       "      <th>display_1</th>\n",
       "      <th>display_2</th>\n",
       "      <th>catalog_1</th>\n",
       "      <th>catalog_2</th>\n",
       "      <th>catalog_3</th>\n",
       "      <th>catalog_4</th>\n",
       "      <th>time.Halloween</th>\n",
       "      <th>time.Thanksgiving</th>\n",
       "      <th>time.Christmas</th>\n",
       "      <th>time.NewYear</th>\n",
       "      <th>time.Easter</th>\n",
       "      <th>time.Memorial</th>\n",
       "      <th>time.X4thJuly</th>\n",
       "      <th>time.LabourDay</th>\n",
       "    </tr>\n",
       "  </thead>\n",
       "  <tbody>\n",
       "    <tr>\n",
       "      <th>count</th>\n",
       "      <td>35672.000000</td>\n",
       "      <td>35672.000000</td>\n",
       "      <td>35672.000000</td>\n",
       "      <td>35672.000000</td>\n",
       "      <td>35672.000000</td>\n",
       "      <td>35672.000000</td>\n",
       "      <td>35672.000000</td>\n",
       "      <td>35672.000000</td>\n",
       "      <td>35672.000000</td>\n",
       "      <td>35672.000000</td>\n",
       "      <td>35672.000000</td>\n",
       "      <td>35672.0</td>\n",
       "      <td>35672.000000</td>\n",
       "      <td>35672.000000</td>\n",
       "      <td>35672.000000</td>\n",
       "      <td>35672.000000</td>\n",
       "      <td>35672.000000</td>\n",
       "      <td>35672.000000</td>\n",
       "      <td>35672.000000</td>\n",
       "      <td>35672.000000</td>\n",
       "    </tr>\n",
       "    <tr>\n",
       "      <th>mean</th>\n",
       "      <td>182.500000</td>\n",
       "      <td>3.991758</td>\n",
       "      <td>12.844724</td>\n",
       "      <td>7.720754</td>\n",
       "      <td>96.536907</td>\n",
       "      <td>0.286527</td>\n",
       "      <td>0.195307</td>\n",
       "      <td>0.065093</td>\n",
       "      <td>0.001822</td>\n",
       "      <td>0.085782</td>\n",
       "      <td>0.030556</td>\n",
       "      <td>0.0</td>\n",
       "      <td>0.019231</td>\n",
       "      <td>0.019231</td>\n",
       "      <td>0.016484</td>\n",
       "      <td>0.016484</td>\n",
       "      <td>0.019231</td>\n",
       "      <td>0.019231</td>\n",
       "      <td>0.019231</td>\n",
       "      <td>0.019231</td>\n",
       "    </tr>\n",
       "    <tr>\n",
       "      <th>std</th>\n",
       "      <td>105.078825</td>\n",
       "      <td>1.993820</td>\n",
       "      <td>15.773870</td>\n",
       "      <td>3.939364</td>\n",
       "      <td>141.137643</td>\n",
       "      <td>0.452145</td>\n",
       "      <td>0.396443</td>\n",
       "      <td>0.246693</td>\n",
       "      <td>0.042648</td>\n",
       "      <td>0.280045</td>\n",
       "      <td>0.172114</td>\n",
       "      <td>0.0</td>\n",
       "      <td>0.137337</td>\n",
       "      <td>0.137337</td>\n",
       "      <td>0.127327</td>\n",
       "      <td>0.127327</td>\n",
       "      <td>0.137337</td>\n",
       "      <td>0.137337</td>\n",
       "      <td>0.137337</td>\n",
       "      <td>0.137337</td>\n",
       "    </tr>\n",
       "    <tr>\n",
       "      <th>min</th>\n",
       "      <td>1.000000</td>\n",
       "      <td>1.000000</td>\n",
       "      <td>1.000000</td>\n",
       "      <td>0.990000</td>\n",
       "      <td>1.390000</td>\n",
       "      <td>0.000000</td>\n",
       "      <td>0.000000</td>\n",
       "      <td>0.000000</td>\n",
       "      <td>0.000000</td>\n",
       "      <td>0.000000</td>\n",
       "      <td>0.000000</td>\n",
       "      <td>0.0</td>\n",
       "      <td>0.000000</td>\n",
       "      <td>0.000000</td>\n",
       "      <td>0.000000</td>\n",
       "      <td>0.000000</td>\n",
       "      <td>0.000000</td>\n",
       "      <td>0.000000</td>\n",
       "      <td>0.000000</td>\n",
       "      <td>0.000000</td>\n",
       "    </tr>\n",
       "    <tr>\n",
       "      <th>25%</th>\n",
       "      <td>91.750000</td>\n",
       "      <td>2.000000</td>\n",
       "      <td>4.000000</td>\n",
       "      <td>4.990000</td>\n",
       "      <td>22.470000</td>\n",
       "      <td>0.000000</td>\n",
       "      <td>0.000000</td>\n",
       "      <td>0.000000</td>\n",
       "      <td>0.000000</td>\n",
       "      <td>0.000000</td>\n",
       "      <td>0.000000</td>\n",
       "      <td>0.0</td>\n",
       "      <td>0.000000</td>\n",
       "      <td>0.000000</td>\n",
       "      <td>0.000000</td>\n",
       "      <td>0.000000</td>\n",
       "      <td>0.000000</td>\n",
       "      <td>0.000000</td>\n",
       "      <td>0.000000</td>\n",
       "      <td>0.000000</td>\n",
       "    </tr>\n",
       "    <tr>\n",
       "      <th>50%</th>\n",
       "      <td>182.500000</td>\n",
       "      <td>4.000000</td>\n",
       "      <td>8.000000</td>\n",
       "      <td>7.070000</td>\n",
       "      <td>47.940000</td>\n",
       "      <td>0.000000</td>\n",
       "      <td>0.000000</td>\n",
       "      <td>0.000000</td>\n",
       "      <td>0.000000</td>\n",
       "      <td>0.000000</td>\n",
       "      <td>0.000000</td>\n",
       "      <td>0.0</td>\n",
       "      <td>0.000000</td>\n",
       "      <td>0.000000</td>\n",
       "      <td>0.000000</td>\n",
       "      <td>0.000000</td>\n",
       "      <td>0.000000</td>\n",
       "      <td>0.000000</td>\n",
       "      <td>0.000000</td>\n",
       "      <td>0.000000</td>\n",
       "    </tr>\n",
       "    <tr>\n",
       "      <th>75%</th>\n",
       "      <td>273.250000</td>\n",
       "      <td>6.000000</td>\n",
       "      <td>15.000000</td>\n",
       "      <td>10.990000</td>\n",
       "      <td>104.850000</td>\n",
       "      <td>1.000000</td>\n",
       "      <td>0.000000</td>\n",
       "      <td>0.000000</td>\n",
       "      <td>0.000000</td>\n",
       "      <td>0.000000</td>\n",
       "      <td>0.000000</td>\n",
       "      <td>0.0</td>\n",
       "      <td>0.000000</td>\n",
       "      <td>0.000000</td>\n",
       "      <td>0.000000</td>\n",
       "      <td>0.000000</td>\n",
       "      <td>0.000000</td>\n",
       "      <td>0.000000</td>\n",
       "      <td>0.000000</td>\n",
       "      <td>0.000000</td>\n",
       "    </tr>\n",
       "    <tr>\n",
       "      <th>max</th>\n",
       "      <td>364.000000</td>\n",
       "      <td>7.000000</td>\n",
       "      <td>223.000000</td>\n",
       "      <td>30.990000</td>\n",
       "      <td>2697.969960</td>\n",
       "      <td>1.000000</td>\n",
       "      <td>1.000000</td>\n",
       "      <td>1.000000</td>\n",
       "      <td>1.000000</td>\n",
       "      <td>1.000000</td>\n",
       "      <td>1.000000</td>\n",
       "      <td>0.0</td>\n",
       "      <td>1.000000</td>\n",
       "      <td>1.000000</td>\n",
       "      <td>1.000000</td>\n",
       "      <td>1.000000</td>\n",
       "      <td>1.000000</td>\n",
       "      <td>1.000000</td>\n",
       "      <td>1.000000</td>\n",
       "      <td>1.000000</td>\n",
       "    </tr>\n",
       "  </tbody>\n",
       "</table>\n",
       "</div>"
      ],
      "text/plain": [
       "            week_no          year        salesQ         price       revenue  \\\n",
       "count  35672.000000  35672.000000  35672.000000  35672.000000  35672.000000   \n",
       "mean     182.500000      3.991758     12.844724      7.720754     96.536907   \n",
       "std      105.078825      1.993820     15.773870      3.939364    141.137643   \n",
       "min        1.000000      1.000000      1.000000      0.990000      1.390000   \n",
       "25%       91.750000      2.000000      4.000000      4.990000     22.470000   \n",
       "50%      182.500000      4.000000      8.000000      7.070000     47.940000   \n",
       "75%      273.250000      6.000000     15.000000     10.990000    104.850000   \n",
       "max      364.000000      7.000000    223.000000     30.990000   2697.969960   \n",
       "\n",
       "        promo_price     display_1     display_2     catalog_1     catalog_2  \\\n",
       "count  35672.000000  35672.000000  35672.000000  35672.000000  35672.000000   \n",
       "mean       0.286527      0.195307      0.065093      0.001822      0.085782   \n",
       "std        0.452145      0.396443      0.246693      0.042648      0.280045   \n",
       "min        0.000000      0.000000      0.000000      0.000000      0.000000   \n",
       "25%        0.000000      0.000000      0.000000      0.000000      0.000000   \n",
       "50%        0.000000      0.000000      0.000000      0.000000      0.000000   \n",
       "75%        1.000000      0.000000      0.000000      0.000000      0.000000   \n",
       "max        1.000000      1.000000      1.000000      1.000000      1.000000   \n",
       "\n",
       "          catalog_3  catalog_4  time.Halloween  time.Thanksgiving  \\\n",
       "count  35672.000000    35672.0    35672.000000       35672.000000   \n",
       "mean       0.030556        0.0        0.019231           0.019231   \n",
       "std        0.172114        0.0        0.137337           0.137337   \n",
       "min        0.000000        0.0        0.000000           0.000000   \n",
       "25%        0.000000        0.0        0.000000           0.000000   \n",
       "50%        0.000000        0.0        0.000000           0.000000   \n",
       "75%        0.000000        0.0        0.000000           0.000000   \n",
       "max        1.000000        0.0        1.000000           1.000000   \n",
       "\n",
       "       time.Christmas  time.NewYear   time.Easter  time.Memorial  \\\n",
       "count    35672.000000  35672.000000  35672.000000   35672.000000   \n",
       "mean         0.016484      0.016484      0.019231       0.019231   \n",
       "std          0.127327      0.127327      0.137337       0.137337   \n",
       "min          0.000000      0.000000      0.000000       0.000000   \n",
       "25%          0.000000      0.000000      0.000000       0.000000   \n",
       "50%          0.000000      0.000000      0.000000       0.000000   \n",
       "75%          0.000000      0.000000      0.000000       0.000000   \n",
       "max          1.000000      1.000000      1.000000       1.000000   \n",
       "\n",
       "       time.X4thJuly  time.LabourDay  \n",
       "count   35672.000000    35672.000000  \n",
       "mean        0.019231        0.019231  \n",
       "std         0.137337        0.137337  \n",
       "min         0.000000        0.000000  \n",
       "25%         0.000000        0.000000  \n",
       "50%         0.000000        0.000000  \n",
       "75%         0.000000        0.000000  \n",
       "max         1.000000        1.000000  "
      ]
     },
     "execution_count": 5,
     "metadata": {},
     "output_type": "execute_result"
    }
   ],
   "source": [
    "df.describe()"
   ]
  },
  {
   "cell_type": "markdown",
   "id": "9e93a2da-5865-4dd6-95e2-76fc1e304164",
   "metadata": {},
   "source": [
    "As we can see, catalog_4 consists of zeros; we can drop this column. Revenue = price * salesQ, so we can drop it too."
   ]
  },
  {
   "cell_type": "code",
   "execution_count": 6,
   "id": "7b6b229c-5168-401a-9f30-f32ad298fa62",
   "metadata": {},
   "outputs": [],
   "source": [
    "df.drop(columns=['catalog_4', 'revenue'], inplace=True)"
   ]
  },
  {
   "cell_type": "markdown",
   "id": "242485f4-404b-4a00-aee9-2c25da24fda0",
   "metadata": {},
   "source": [
    "We need to add month as a number:"
   ]
  },
  {
   "cell_type": "code",
   "execution_count": 7,
   "id": "84282efd-83f2-489b-95e1-246c86f68e5b",
   "metadata": {},
   "outputs": [],
   "source": [
    "months = ['Jan', 'Feb', 'Mar', 'Apr', 'May', 'Jun', 'Jul', 'Aug', 'Sep', 'Oct', 'Nov', 'Dec']\n",
    "df['month_no'] = df['month'].map(months.index) + 1"
   ]
  },
  {
   "cell_type": "markdown",
   "id": "0cc58f14-7c53-4e7c-84e5-325559bfbf0b",
   "metadata": {},
   "source": [
    "Let's add some cyclical features:"
   ]
  },
  {
   "cell_type": "code",
   "execution_count": 8,
   "id": "ebfa818b-3b93-41d7-b569-13cc7a4bfe1a",
   "metadata": {},
   "outputs": [],
   "source": [
    "df['m1'] = np.sin(df['month_no'] * (2 * np.pi / 12))\n",
    "df['m2'] = np.cos(df['month_no'] * (2 * np.pi / 12))"
   ]
  },
  {
   "cell_type": "markdown",
   "id": "7add43cf-c719-4051-a30c-d569d0fbcee7",
   "metadata": {},
   "source": [
    "I also want to add week number in a year; it may be relevant"
   ]
  },
  {
   "cell_type": "code",
   "execution_count": 9,
   "id": "200628cb-0857-4651-8620-39a6638a3bc0",
   "metadata": {},
   "outputs": [],
   "source": [
    "df['week_of_year'] = (df['week_no'] - 1) % 52 + 1"
   ]
  },
  {
   "cell_type": "markdown",
   "id": "c7f5cb39-ddb6-42ae-8c5e-d24906ac86e3",
   "metadata": {},
   "source": [
    "I'll calculate sales for the last 10 weeks:"
   ]
  },
  {
   "cell_type": "code",
   "execution_count": 10,
   "id": "62c17570-46aa-4e6f-8d8a-8e74e1def77b",
   "metadata": {},
   "outputs": [],
   "source": [
    "window = 10\n",
    "for i in range(1, window + 1):\n",
    "    df[f'sales_{i}'] = df.groupby('product').shift(i)['salesQ']"
   ]
  },
  {
   "cell_type": "markdown",
   "id": "e4447139-4789-4025-846a-3b6d31736aff",
   "metadata": {},
   "source": [
    "I'm also gonna add a 'price_change' column showing how price changed comparing to the previous week."
   ]
  },
  {
   "cell_type": "code",
   "execution_count": 11,
   "id": "97c8f79c-290b-4f3c-8f38-92bcf01f59a0",
   "metadata": {},
   "outputs": [],
   "source": [
    "df['price_change'] = df['price'] - df.shift(1)['price']"
   ]
  },
  {
   "cell_type": "code",
   "execution_count": 12,
   "id": "dfe89a9f-305c-4bff-a8f5-ca54756c18ff",
   "metadata": {},
   "outputs": [
    {
     "data": {
      "text/html": [
       "<div>\n",
       "<style scoped>\n",
       "    .dataframe tbody tr th:only-of-type {\n",
       "        vertical-align: middle;\n",
       "    }\n",
       "\n",
       "    .dataframe tbody tr th {\n",
       "        vertical-align: top;\n",
       "    }\n",
       "\n",
       "    .dataframe thead th {\n",
       "        text-align: right;\n",
       "    }\n",
       "</style>\n",
       "<table border=\"1\" class=\"dataframe\">\n",
       "  <thead>\n",
       "    <tr style=\"text-align: right;\">\n",
       "      <th></th>\n",
       "      <th>product</th>\n",
       "      <th>week_no</th>\n",
       "      <th>year</th>\n",
       "      <th>month</th>\n",
       "      <th>salesQ</th>\n",
       "      <th>price</th>\n",
       "      <th>promo_price</th>\n",
       "      <th>display_1</th>\n",
       "      <th>display_2</th>\n",
       "      <th>catalog_1</th>\n",
       "      <th>...</th>\n",
       "      <th>sales_2</th>\n",
       "      <th>sales_3</th>\n",
       "      <th>sales_4</th>\n",
       "      <th>sales_5</th>\n",
       "      <th>sales_6</th>\n",
       "      <th>sales_7</th>\n",
       "      <th>sales_8</th>\n",
       "      <th>sales_9</th>\n",
       "      <th>sales_10</th>\n",
       "      <th>price_change</th>\n",
       "    </tr>\n",
       "  </thead>\n",
       "  <tbody>\n",
       "    <tr>\n",
       "      <th>0</th>\n",
       "      <td>beer.beer_SS1</td>\n",
       "      <td>1</td>\n",
       "      <td>1</td>\n",
       "      <td>Jan</td>\n",
       "      <td>22</td>\n",
       "      <td>5.450909</td>\n",
       "      <td>1</td>\n",
       "      <td>1</td>\n",
       "      <td>0</td>\n",
       "      <td>0</td>\n",
       "      <td>...</td>\n",
       "      <td>NaN</td>\n",
       "      <td>NaN</td>\n",
       "      <td>NaN</td>\n",
       "      <td>NaN</td>\n",
       "      <td>NaN</td>\n",
       "      <td>NaN</td>\n",
       "      <td>NaN</td>\n",
       "      <td>NaN</td>\n",
       "      <td>NaN</td>\n",
       "      <td>NaN</td>\n",
       "    </tr>\n",
       "    <tr>\n",
       "      <th>1</th>\n",
       "      <td>beer.beer_SS1</td>\n",
       "      <td>2</td>\n",
       "      <td>1</td>\n",
       "      <td>Jan</td>\n",
       "      <td>12</td>\n",
       "      <td>6.450000</td>\n",
       "      <td>0</td>\n",
       "      <td>0</td>\n",
       "      <td>0</td>\n",
       "      <td>0</td>\n",
       "      <td>...</td>\n",
       "      <td>NaN</td>\n",
       "      <td>NaN</td>\n",
       "      <td>NaN</td>\n",
       "      <td>NaN</td>\n",
       "      <td>NaN</td>\n",
       "      <td>NaN</td>\n",
       "      <td>NaN</td>\n",
       "      <td>NaN</td>\n",
       "      <td>NaN</td>\n",
       "      <td>0.999091</td>\n",
       "    </tr>\n",
       "    <tr>\n",
       "      <th>2</th>\n",
       "      <td>beer.beer_SS1</td>\n",
       "      <td>3</td>\n",
       "      <td>1</td>\n",
       "      <td>Jan</td>\n",
       "      <td>11</td>\n",
       "      <td>6.490000</td>\n",
       "      <td>0</td>\n",
       "      <td>0</td>\n",
       "      <td>0</td>\n",
       "      <td>0</td>\n",
       "      <td>...</td>\n",
       "      <td>22.0</td>\n",
       "      <td>NaN</td>\n",
       "      <td>NaN</td>\n",
       "      <td>NaN</td>\n",
       "      <td>NaN</td>\n",
       "      <td>NaN</td>\n",
       "      <td>NaN</td>\n",
       "      <td>NaN</td>\n",
       "      <td>NaN</td>\n",
       "      <td>0.040000</td>\n",
       "    </tr>\n",
       "    <tr>\n",
       "      <th>3</th>\n",
       "      <td>beer.beer_SS1</td>\n",
       "      <td>4</td>\n",
       "      <td>1</td>\n",
       "      <td>Jan</td>\n",
       "      <td>4</td>\n",
       "      <td>6.490000</td>\n",
       "      <td>0</td>\n",
       "      <td>0</td>\n",
       "      <td>0</td>\n",
       "      <td>0</td>\n",
       "      <td>...</td>\n",
       "      <td>12.0</td>\n",
       "      <td>22.0</td>\n",
       "      <td>NaN</td>\n",
       "      <td>NaN</td>\n",
       "      <td>NaN</td>\n",
       "      <td>NaN</td>\n",
       "      <td>NaN</td>\n",
       "      <td>NaN</td>\n",
       "      <td>NaN</td>\n",
       "      <td>0.000000</td>\n",
       "    </tr>\n",
       "    <tr>\n",
       "      <th>4</th>\n",
       "      <td>beer.beer_SS1</td>\n",
       "      <td>5</td>\n",
       "      <td>1</td>\n",
       "      <td>Feb</td>\n",
       "      <td>3</td>\n",
       "      <td>6.490000</td>\n",
       "      <td>0</td>\n",
       "      <td>0</td>\n",
       "      <td>0</td>\n",
       "      <td>0</td>\n",
       "      <td>...</td>\n",
       "      <td>11.0</td>\n",
       "      <td>12.0</td>\n",
       "      <td>22.0</td>\n",
       "      <td>NaN</td>\n",
       "      <td>NaN</td>\n",
       "      <td>NaN</td>\n",
       "      <td>NaN</td>\n",
       "      <td>NaN</td>\n",
       "      <td>NaN</td>\n",
       "      <td>0.000000</td>\n",
       "    </tr>\n",
       "    <tr>\n",
       "      <th>5</th>\n",
       "      <td>beer.beer_SS1</td>\n",
       "      <td>6</td>\n",
       "      <td>1</td>\n",
       "      <td>Feb</td>\n",
       "      <td>11</td>\n",
       "      <td>6.090000</td>\n",
       "      <td>1</td>\n",
       "      <td>1</td>\n",
       "      <td>0</td>\n",
       "      <td>0</td>\n",
       "      <td>...</td>\n",
       "      <td>4.0</td>\n",
       "      <td>11.0</td>\n",
       "      <td>12.0</td>\n",
       "      <td>22.0</td>\n",
       "      <td>NaN</td>\n",
       "      <td>NaN</td>\n",
       "      <td>NaN</td>\n",
       "      <td>NaN</td>\n",
       "      <td>NaN</td>\n",
       "      <td>-0.400000</td>\n",
       "    </tr>\n",
       "    <tr>\n",
       "      <th>6</th>\n",
       "      <td>beer.beer_SS1</td>\n",
       "      <td>7</td>\n",
       "      <td>1</td>\n",
       "      <td>Feb</td>\n",
       "      <td>22</td>\n",
       "      <td>5.430000</td>\n",
       "      <td>1</td>\n",
       "      <td>1</td>\n",
       "      <td>0</td>\n",
       "      <td>0</td>\n",
       "      <td>...</td>\n",
       "      <td>3.0</td>\n",
       "      <td>4.0</td>\n",
       "      <td>11.0</td>\n",
       "      <td>12.0</td>\n",
       "      <td>22.0</td>\n",
       "      <td>NaN</td>\n",
       "      <td>NaN</td>\n",
       "      <td>NaN</td>\n",
       "      <td>NaN</td>\n",
       "      <td>-0.660000</td>\n",
       "    </tr>\n",
       "    <tr>\n",
       "      <th>7</th>\n",
       "      <td>beer.beer_SS1</td>\n",
       "      <td>8</td>\n",
       "      <td>1</td>\n",
       "      <td>Feb</td>\n",
       "      <td>25</td>\n",
       "      <td>6.230000</td>\n",
       "      <td>0</td>\n",
       "      <td>1</td>\n",
       "      <td>0</td>\n",
       "      <td>0</td>\n",
       "      <td>...</td>\n",
       "      <td>11.0</td>\n",
       "      <td>3.0</td>\n",
       "      <td>4.0</td>\n",
       "      <td>11.0</td>\n",
       "      <td>12.0</td>\n",
       "      <td>22.0</td>\n",
       "      <td>NaN</td>\n",
       "      <td>NaN</td>\n",
       "      <td>NaN</td>\n",
       "      <td>0.800000</td>\n",
       "    </tr>\n",
       "    <tr>\n",
       "      <th>8</th>\n",
       "      <td>beer.beer_SS1</td>\n",
       "      <td>9</td>\n",
       "      <td>1</td>\n",
       "      <td>Mar</td>\n",
       "      <td>4</td>\n",
       "      <td>5.990000</td>\n",
       "      <td>0</td>\n",
       "      <td>1</td>\n",
       "      <td>0</td>\n",
       "      <td>0</td>\n",
       "      <td>...</td>\n",
       "      <td>22.0</td>\n",
       "      <td>11.0</td>\n",
       "      <td>3.0</td>\n",
       "      <td>4.0</td>\n",
       "      <td>11.0</td>\n",
       "      <td>12.0</td>\n",
       "      <td>22.0</td>\n",
       "      <td>NaN</td>\n",
       "      <td>NaN</td>\n",
       "      <td>-0.240000</td>\n",
       "    </tr>\n",
       "    <tr>\n",
       "      <th>9</th>\n",
       "      <td>beer.beer_SS1</td>\n",
       "      <td>10</td>\n",
       "      <td>1</td>\n",
       "      <td>Mar</td>\n",
       "      <td>7</td>\n",
       "      <td>6.560000</td>\n",
       "      <td>0</td>\n",
       "      <td>0</td>\n",
       "      <td>0</td>\n",
       "      <td>0</td>\n",
       "      <td>...</td>\n",
       "      <td>25.0</td>\n",
       "      <td>22.0</td>\n",
       "      <td>11.0</td>\n",
       "      <td>3.0</td>\n",
       "      <td>4.0</td>\n",
       "      <td>11.0</td>\n",
       "      <td>12.0</td>\n",
       "      <td>22.0</td>\n",
       "      <td>NaN</td>\n",
       "      <td>0.570000</td>\n",
       "    </tr>\n",
       "    <tr>\n",
       "      <th>10</th>\n",
       "      <td>beer.beer_SS1</td>\n",
       "      <td>11</td>\n",
       "      <td>1</td>\n",
       "      <td>Mar</td>\n",
       "      <td>2</td>\n",
       "      <td>7.990000</td>\n",
       "      <td>0</td>\n",
       "      <td>0</td>\n",
       "      <td>0</td>\n",
       "      <td>0</td>\n",
       "      <td>...</td>\n",
       "      <td>4.0</td>\n",
       "      <td>25.0</td>\n",
       "      <td>22.0</td>\n",
       "      <td>11.0</td>\n",
       "      <td>3.0</td>\n",
       "      <td>4.0</td>\n",
       "      <td>11.0</td>\n",
       "      <td>12.0</td>\n",
       "      <td>22.0</td>\n",
       "      <td>1.430000</td>\n",
       "    </tr>\n",
       "    <tr>\n",
       "      <th>11</th>\n",
       "      <td>beer.beer_SS1</td>\n",
       "      <td>12</td>\n",
       "      <td>1</td>\n",
       "      <td>Mar</td>\n",
       "      <td>1</td>\n",
       "      <td>7.990000</td>\n",
       "      <td>0</td>\n",
       "      <td>0</td>\n",
       "      <td>0</td>\n",
       "      <td>0</td>\n",
       "      <td>...</td>\n",
       "      <td>7.0</td>\n",
       "      <td>4.0</td>\n",
       "      <td>25.0</td>\n",
       "      <td>22.0</td>\n",
       "      <td>11.0</td>\n",
       "      <td>3.0</td>\n",
       "      <td>4.0</td>\n",
       "      <td>11.0</td>\n",
       "      <td>12.0</td>\n",
       "      <td>0.000000</td>\n",
       "    </tr>\n",
       "    <tr>\n",
       "      <th>12</th>\n",
       "      <td>beer.beer_SS1</td>\n",
       "      <td>13</td>\n",
       "      <td>1</td>\n",
       "      <td>Mar</td>\n",
       "      <td>1</td>\n",
       "      <td>7.990000</td>\n",
       "      <td>0</td>\n",
       "      <td>0</td>\n",
       "      <td>0</td>\n",
       "      <td>0</td>\n",
       "      <td>...</td>\n",
       "      <td>2.0</td>\n",
       "      <td>7.0</td>\n",
       "      <td>4.0</td>\n",
       "      <td>25.0</td>\n",
       "      <td>22.0</td>\n",
       "      <td>11.0</td>\n",
       "      <td>3.0</td>\n",
       "      <td>4.0</td>\n",
       "      <td>11.0</td>\n",
       "      <td>0.000000</td>\n",
       "    </tr>\n",
       "    <tr>\n",
       "      <th>13</th>\n",
       "      <td>beer.beer_SS1</td>\n",
       "      <td>14</td>\n",
       "      <td>1</td>\n",
       "      <td>Apr</td>\n",
       "      <td>3</td>\n",
       "      <td>7.320000</td>\n",
       "      <td>1</td>\n",
       "      <td>0</td>\n",
       "      <td>0</td>\n",
       "      <td>0</td>\n",
       "      <td>...</td>\n",
       "      <td>1.0</td>\n",
       "      <td>2.0</td>\n",
       "      <td>7.0</td>\n",
       "      <td>4.0</td>\n",
       "      <td>25.0</td>\n",
       "      <td>22.0</td>\n",
       "      <td>11.0</td>\n",
       "      <td>3.0</td>\n",
       "      <td>4.0</td>\n",
       "      <td>-0.670000</td>\n",
       "    </tr>\n",
       "    <tr>\n",
       "      <th>14</th>\n",
       "      <td>beer.beer_SS1</td>\n",
       "      <td>15</td>\n",
       "      <td>1</td>\n",
       "      <td>Apr</td>\n",
       "      <td>12</td>\n",
       "      <td>4.990000</td>\n",
       "      <td>1</td>\n",
       "      <td>1</td>\n",
       "      <td>0</td>\n",
       "      <td>0</td>\n",
       "      <td>...</td>\n",
       "      <td>1.0</td>\n",
       "      <td>1.0</td>\n",
       "      <td>2.0</td>\n",
       "      <td>7.0</td>\n",
       "      <td>4.0</td>\n",
       "      <td>25.0</td>\n",
       "      <td>22.0</td>\n",
       "      <td>11.0</td>\n",
       "      <td>3.0</td>\n",
       "      <td>-2.330000</td>\n",
       "    </tr>\n",
       "  </tbody>\n",
       "</table>\n",
       "<p>15 rows × 35 columns</p>\n",
       "</div>"
      ],
      "text/plain": [
       "          product  week_no  year month  salesQ     price  promo_price  \\\n",
       "0   beer.beer_SS1        1     1   Jan      22  5.450909            1   \n",
       "1   beer.beer_SS1        2     1   Jan      12  6.450000            0   \n",
       "2   beer.beer_SS1        3     1   Jan      11  6.490000            0   \n",
       "3   beer.beer_SS1        4     1   Jan       4  6.490000            0   \n",
       "4   beer.beer_SS1        5     1   Feb       3  6.490000            0   \n",
       "5   beer.beer_SS1        6     1   Feb      11  6.090000            1   \n",
       "6   beer.beer_SS1        7     1   Feb      22  5.430000            1   \n",
       "7   beer.beer_SS1        8     1   Feb      25  6.230000            0   \n",
       "8   beer.beer_SS1        9     1   Mar       4  5.990000            0   \n",
       "9   beer.beer_SS1       10     1   Mar       7  6.560000            0   \n",
       "10  beer.beer_SS1       11     1   Mar       2  7.990000            0   \n",
       "11  beer.beer_SS1       12     1   Mar       1  7.990000            0   \n",
       "12  beer.beer_SS1       13     1   Mar       1  7.990000            0   \n",
       "13  beer.beer_SS1       14     1   Apr       3  7.320000            1   \n",
       "14  beer.beer_SS1       15     1   Apr      12  4.990000            1   \n",
       "\n",
       "    display_1  display_2  catalog_1  ...  sales_2  sales_3  sales_4  sales_5  \\\n",
       "0           1          0          0  ...      NaN      NaN      NaN      NaN   \n",
       "1           0          0          0  ...      NaN      NaN      NaN      NaN   \n",
       "2           0          0          0  ...     22.0      NaN      NaN      NaN   \n",
       "3           0          0          0  ...     12.0     22.0      NaN      NaN   \n",
       "4           0          0          0  ...     11.0     12.0     22.0      NaN   \n",
       "5           1          0          0  ...      4.0     11.0     12.0     22.0   \n",
       "6           1          0          0  ...      3.0      4.0     11.0     12.0   \n",
       "7           1          0          0  ...     11.0      3.0      4.0     11.0   \n",
       "8           1          0          0  ...     22.0     11.0      3.0      4.0   \n",
       "9           0          0          0  ...     25.0     22.0     11.0      3.0   \n",
       "10          0          0          0  ...      4.0     25.0     22.0     11.0   \n",
       "11          0          0          0  ...      7.0      4.0     25.0     22.0   \n",
       "12          0          0          0  ...      2.0      7.0      4.0     25.0   \n",
       "13          0          0          0  ...      1.0      2.0      7.0      4.0   \n",
       "14          1          0          0  ...      1.0      1.0      2.0      7.0   \n",
       "\n",
       "    sales_6  sales_7  sales_8  sales_9  sales_10  price_change  \n",
       "0       NaN      NaN      NaN      NaN       NaN           NaN  \n",
       "1       NaN      NaN      NaN      NaN       NaN      0.999091  \n",
       "2       NaN      NaN      NaN      NaN       NaN      0.040000  \n",
       "3       NaN      NaN      NaN      NaN       NaN      0.000000  \n",
       "4       NaN      NaN      NaN      NaN       NaN      0.000000  \n",
       "5       NaN      NaN      NaN      NaN       NaN     -0.400000  \n",
       "6      22.0      NaN      NaN      NaN       NaN     -0.660000  \n",
       "7      12.0     22.0      NaN      NaN       NaN      0.800000  \n",
       "8      11.0     12.0     22.0      NaN       NaN     -0.240000  \n",
       "9       4.0     11.0     12.0     22.0       NaN      0.570000  \n",
       "10      3.0      4.0     11.0     12.0      22.0      1.430000  \n",
       "11     11.0      3.0      4.0     11.0      12.0      0.000000  \n",
       "12     22.0     11.0      3.0      4.0      11.0      0.000000  \n",
       "13     25.0     22.0     11.0      3.0       4.0     -0.670000  \n",
       "14      4.0     25.0     22.0     11.0       3.0     -2.330000  \n",
       "\n",
       "[15 rows x 35 columns]"
      ]
     },
     "execution_count": 12,
     "metadata": {},
     "output_type": "execute_result"
    }
   ],
   "source": [
    "df.head(15)"
   ]
  },
  {
   "cell_type": "markdown",
   "id": "c3bab128-9d9d-44a6-8146-ae4ba982df10",
   "metadata": {},
   "source": [
    "Let's check if all products have all data:"
   ]
  },
  {
   "cell_type": "code",
   "execution_count": 13,
   "id": "4f1238cd-27f6-4e46-ba4e-157711b287a8",
   "metadata": {},
   "outputs": [
    {
     "data": {
      "text/plain": [
       "True"
      ]
     },
     "execution_count": 13,
     "metadata": {},
     "output_type": "execute_result"
    }
   ],
   "source": [
    "(df.groupby('product')['price'].count() == 364).all()"
   ]
  },
  {
   "cell_type": "markdown",
   "id": "80e8e4c3-f1c6-4fb7-9c39-5b14b23c7439",
   "metadata": {},
   "source": [
    "That's true, so every product has infomation for 364 weeks. Let's look at a few visualizations:"
   ]
  },
  {
   "cell_type": "code",
   "execution_count": 14,
   "id": "4349c12c-6c8f-460e-87ee-97983e20a53d",
   "metadata": {},
   "outputs": [
    {
     "data": {
      "text/plain": [
       "<AxesSubplot:title={'center':'Mean sales and price over time'}, xlabel='week_no'>"
      ]
     },
     "execution_count": 14,
     "metadata": {},
     "output_type": "execute_result"
    },
    {
     "data": {
      "image/png": "[encoded data removed]",
      "text/plain": [
       "<Figure size 432x288 with 1 Axes>"
      ]
     },
     "metadata": {
      "needs_background": "light"
     },
     "output_type": "display_data"
    }
   ],
   "source": [
    "df.groupby(['week_no']).mean().plot(y=['salesQ', 'price'], title='Mean sales and price over time')"
   ]
  },
  {
   "cell_type": "markdown",
   "id": "7c3259aa-e52d-40ff-a63b-5188d935c12a",
   "metadata": {},
   "source": [
    "We can see a repeating pattern. Let's goup data by number of month and week in year:"
   ]
  },
  {
   "cell_type": "code",
   "execution_count": 15,
   "id": "68eefa0c-63b6-486c-8287-d22081751261",
   "metadata": {},
   "outputs": [
    {
     "data": {
      "text/plain": [
       "<AxesSubplot:title={'center':'Sales and price dependency on the month'}, xlabel='month_no'>"
      ]
     },
     "execution_count": 15,
     "metadata": {},
     "output_type": "execute_result"
    },
    {
     "data": {
      "image/png": "[encoded data removed]",
      "text/plain": [
       "<Figure size 432x288 with 1 Axes>"
      ]
     },
     "metadata": {
      "needs_background": "light"
     },
     "output_type": "display_data"
    }
   ],
   "source": [
    "df.groupby(['month_no']).mean().plot(y=['salesQ', 'price'], title='Sales and price dependency on the month')"
   ]
  },
  {
   "cell_type": "code",
   "execution_count": 16,
   "id": "fe68d279-55b2-4fe5-a125-1a6eb50cba07",
   "metadata": {},
   "outputs": [
    {
     "data": {
      "text/plain": [
       "<AxesSubplot:title={'center':'Sales and price dependency on the week of year'}, xlabel='week_of_year'>"
      ]
     },
     "execution_count": 16,
     "metadata": {},
     "output_type": "execute_result"
    },
    {
     "data": {
      "image/png": "[encoded data removed]",
      "text/plain": [
       "<Figure size 432x288 with 1 Axes>"
      ]
     },
     "metadata": {
      "needs_background": "light"
     },
     "output_type": "display_data"
    }
   ],
   "source": [
    "df.groupby('week_of_year').mean().plot(y=['salesQ', 'price'],  title='Sales and price dependency on the week of year')"
   ]
  },
  {
   "cell_type": "markdown",
   "id": "537aaf99-29ea-4f9d-bc53-003750f4c3bd",
   "metadata": {},
   "source": [
    "There is an obvious pattern. Thus, month_no and week_of_year are important features.  \n",
    "We can look at the difference of prices and sales of different SKUs:"
   ]
  },
  {
   "cell_type": "code",
   "execution_count": 17,
   "id": "41b65a78-56d3-4f09-83a5-36cc4524b502",
   "metadata": {},
   "outputs": [
    {
     "data": {
      "text/plain": [
       "<AxesSubplot:title={'center':'Product prices'}, xlabel='product'>"
      ]
     },
     "execution_count": 17,
     "metadata": {},
     "output_type": "execute_result"
    },
    {
     "data": {
      "image/png": "[encoded data removed]",
      "text/plain": [
       "<Figure size 1440x360 with 1 Axes>"
      ]
     },
     "metadata": {
      "needs_background": "light"
     },
     "output_type": "display_data"
    }
   ],
   "source": [
    "df.groupby('product')['price'].mean().plot(kind='bar', figsize=(20, 5), title='Product prices')"
   ]
  },
  {
   "cell_type": "code",
   "execution_count": 18,
   "id": "2fd1a3e6-2530-4bd3-8f32-a98df87262cc",
   "metadata": {},
   "outputs": [
    {
     "data": {
      "text/plain": [
       "<AxesSubplot:title={'center':'Product sales'}, xlabel='product'>"
      ]
     },
     "execution_count": 18,
     "metadata": {},
     "output_type": "execute_result"
    },
    {
     "data": {
      "image/png": "[encoded data removed]",
      "text/plain": [
       "<Figure size 1440x360 with 1 Axes>"
      ]
     },
     "metadata": {
      "needs_background": "light"
     },
     "output_type": "display_data"
    }
   ],
   "source": [
    "df.groupby('product')['salesQ'].mean().plot(kind='bar', figsize=(20, 5), title='Product sales')"
   ]
  },
  {
   "cell_type": "markdown",
   "id": "cafd14c3-b4b9-4afa-a648-5a47dfede28a",
   "metadata": {},
   "source": [
    "Features Heatmap:"
   ]
  },
  {
   "cell_type": "code",
   "execution_count": 19,
   "id": "fc58f8e1-6935-4fbc-99db-136e8d299d59",
   "metadata": {},
   "outputs": [
    {
     "data": {
      "text/plain": [
       "<AxesSubplot:>"
      ]
     },
     "execution_count": 19,
     "metadata": {},
     "output_type": "execute_result"
    },
    {
     "data": {
      "image/png": "[encoded data removed]",
      "text/plain": [
       "<Figure size 432x288 with 2 Axes>"
      ]
     },
     "metadata": {
      "needs_background": "light"
     },
     "output_type": "display_data"
    }
   ],
   "source": [
    "sns.heatmap(df.corr())"
   ]
  },
  {
   "cell_type": "markdown",
   "id": "1aebd78d-8520-4d71-a9f9-a4f4852aa7e7",
   "metadata": {},
   "source": [
    "We need to put aside a subset of SKUs for the test."
   ]
  },
  {
   "cell_type": "code",
   "execution_count": 20,
   "id": "ffd14205-56b1-414e-8b53-d3c067c5cfee",
   "metadata": {},
   "outputs": [
    {
     "data": {
      "text/plain": [
       "19947    beer.beer_SS55\n",
       "619       beer.beer_SS2\n",
       "4511     beer.beer_SS13\n",
       "6591     beer.beer_SS19\n",
       "1830      beer.beer_SS6\n",
       "33691    beer.beer_SS93\n",
       "26479    beer.beer_SS73\n",
       "6926     beer.beer_SS20\n",
       "26824    beer.beer_SS74\n",
       "4115     beer.beer_SS12\n",
       "Name: product, dtype: object"
      ]
     },
     "execution_count": 20,
     "metadata": {},
     "output_type": "execute_result"
    }
   ],
   "source": [
    "test_products = df['product'].sample(10, random_state=1)\n",
    "test_products"
   ]
  },
  {
   "cell_type": "code",
   "execution_count": 21,
   "id": "740e1e7e-4ecb-4b80-b4a4-6a16a8deb748",
   "metadata": {},
   "outputs": [
    {
     "data": {
      "text/plain": [
       "(32032, 3640)"
      ]
     },
     "execution_count": 21,
     "metadata": {},
     "output_type": "execute_result"
    }
   ],
   "source": [
    "df_test = df[df['product'].isin(test_products)]\n",
    "df_train = df[~df['product'].isin(test_products)]\n",
    "len(df_train), len(df_test)"
   ]
  },
  {
   "cell_type": "code",
   "execution_count": 22,
   "id": "de30f6a1-0b09-41b9-aba6-5de179cc3037",
   "metadata": {},
   "outputs": [
    {
     "data": {
      "text/html": [
       "<div>\n",
       "<style scoped>\n",
       "    .dataframe tbody tr th:only-of-type {\n",
       "        vertical-align: middle;\n",
       "    }\n",
       "\n",
       "    .dataframe tbody tr th {\n",
       "        vertical-align: top;\n",
       "    }\n",
       "\n",
       "    .dataframe thead th {\n",
       "        text-align: right;\n",
       "    }\n",
       "</style>\n",
       "<table border=\"1\" class=\"dataframe\">\n",
       "  <thead>\n",
       "    <tr style=\"text-align: right;\">\n",
       "      <th></th>\n",
       "      <th>product</th>\n",
       "      <th>week_no</th>\n",
       "      <th>year</th>\n",
       "      <th>month</th>\n",
       "      <th>salesQ</th>\n",
       "      <th>price</th>\n",
       "      <th>promo_price</th>\n",
       "      <th>display_1</th>\n",
       "      <th>display_2</th>\n",
       "      <th>catalog_1</th>\n",
       "      <th>...</th>\n",
       "      <th>sales_2</th>\n",
       "      <th>sales_3</th>\n",
       "      <th>sales_4</th>\n",
       "      <th>sales_5</th>\n",
       "      <th>sales_6</th>\n",
       "      <th>sales_7</th>\n",
       "      <th>sales_8</th>\n",
       "      <th>sales_9</th>\n",
       "      <th>sales_10</th>\n",
       "      <th>price_change</th>\n",
       "    </tr>\n",
       "  </thead>\n",
       "  <tbody>\n",
       "    <tr>\n",
       "      <th>0</th>\n",
       "      <td>beer.beer_SS1</td>\n",
       "      <td>1</td>\n",
       "      <td>1</td>\n",
       "      <td>Jan</td>\n",
       "      <td>22</td>\n",
       "      <td>5.450909</td>\n",
       "      <td>1</td>\n",
       "      <td>1</td>\n",
       "      <td>0</td>\n",
       "      <td>0</td>\n",
       "      <td>...</td>\n",
       "      <td>NaN</td>\n",
       "      <td>NaN</td>\n",
       "      <td>NaN</td>\n",
       "      <td>NaN</td>\n",
       "      <td>NaN</td>\n",
       "      <td>NaN</td>\n",
       "      <td>NaN</td>\n",
       "      <td>NaN</td>\n",
       "      <td>NaN</td>\n",
       "      <td>NaN</td>\n",
       "    </tr>\n",
       "    <tr>\n",
       "      <th>1</th>\n",
       "      <td>beer.beer_SS1</td>\n",
       "      <td>2</td>\n",
       "      <td>1</td>\n",
       "      <td>Jan</td>\n",
       "      <td>12</td>\n",
       "      <td>6.450000</td>\n",
       "      <td>0</td>\n",
       "      <td>0</td>\n",
       "      <td>0</td>\n",
       "      <td>0</td>\n",
       "      <td>...</td>\n",
       "      <td>NaN</td>\n",
       "      <td>NaN</td>\n",
       "      <td>NaN</td>\n",
       "      <td>NaN</td>\n",
       "      <td>NaN</td>\n",
       "      <td>NaN</td>\n",
       "      <td>NaN</td>\n",
       "      <td>NaN</td>\n",
       "      <td>NaN</td>\n",
       "      <td>0.999091</td>\n",
       "    </tr>\n",
       "    <tr>\n",
       "      <th>2</th>\n",
       "      <td>beer.beer_SS1</td>\n",
       "      <td>3</td>\n",
       "      <td>1</td>\n",
       "      <td>Jan</td>\n",
       "      <td>11</td>\n",
       "      <td>6.490000</td>\n",
       "      <td>0</td>\n",
       "      <td>0</td>\n",
       "      <td>0</td>\n",
       "      <td>0</td>\n",
       "      <td>...</td>\n",
       "      <td>22.0</td>\n",
       "      <td>NaN</td>\n",
       "      <td>NaN</td>\n",
       "      <td>NaN</td>\n",
       "      <td>NaN</td>\n",
       "      <td>NaN</td>\n",
       "      <td>NaN</td>\n",
       "      <td>NaN</td>\n",
       "      <td>NaN</td>\n",
       "      <td>0.040000</td>\n",
       "    </tr>\n",
       "    <tr>\n",
       "      <th>3</th>\n",
       "      <td>beer.beer_SS1</td>\n",
       "      <td>4</td>\n",
       "      <td>1</td>\n",
       "      <td>Jan</td>\n",
       "      <td>4</td>\n",
       "      <td>6.490000</td>\n",
       "      <td>0</td>\n",
       "      <td>0</td>\n",
       "      <td>0</td>\n",
       "      <td>0</td>\n",
       "      <td>...</td>\n",
       "      <td>12.0</td>\n",
       "      <td>22.0</td>\n",
       "      <td>NaN</td>\n",
       "      <td>NaN</td>\n",
       "      <td>NaN</td>\n",
       "      <td>NaN</td>\n",
       "      <td>NaN</td>\n",
       "      <td>NaN</td>\n",
       "      <td>NaN</td>\n",
       "      <td>0.000000</td>\n",
       "    </tr>\n",
       "    <tr>\n",
       "      <th>4</th>\n",
       "      <td>beer.beer_SS1</td>\n",
       "      <td>5</td>\n",
       "      <td>1</td>\n",
       "      <td>Feb</td>\n",
       "      <td>3</td>\n",
       "      <td>6.490000</td>\n",
       "      <td>0</td>\n",
       "      <td>0</td>\n",
       "      <td>0</td>\n",
       "      <td>0</td>\n",
       "      <td>...</td>\n",
       "      <td>11.0</td>\n",
       "      <td>12.0</td>\n",
       "      <td>22.0</td>\n",
       "      <td>NaN</td>\n",
       "      <td>NaN</td>\n",
       "      <td>NaN</td>\n",
       "      <td>NaN</td>\n",
       "      <td>NaN</td>\n",
       "      <td>NaN</td>\n",
       "      <td>0.000000</td>\n",
       "    </tr>\n",
       "    <tr>\n",
       "      <th>...</th>\n",
       "      <td>...</td>\n",
       "      <td>...</td>\n",
       "      <td>...</td>\n",
       "      <td>...</td>\n",
       "      <td>...</td>\n",
       "      <td>...</td>\n",
       "      <td>...</td>\n",
       "      <td>...</td>\n",
       "      <td>...</td>\n",
       "      <td>...</td>\n",
       "      <td>...</td>\n",
       "      <td>...</td>\n",
       "      <td>...</td>\n",
       "      <td>...</td>\n",
       "      <td>...</td>\n",
       "      <td>...</td>\n",
       "      <td>...</td>\n",
       "      <td>...</td>\n",
       "      <td>...</td>\n",
       "      <td>...</td>\n",
       "      <td>...</td>\n",
       "    </tr>\n",
       "    <tr>\n",
       "      <th>35667</th>\n",
       "      <td>beer.beer_SS98</td>\n",
       "      <td>360</td>\n",
       "      <td>7</td>\n",
       "      <td>Nov</td>\n",
       "      <td>1</td>\n",
       "      <td>12.990000</td>\n",
       "      <td>0</td>\n",
       "      <td>0</td>\n",
       "      <td>0</td>\n",
       "      <td>0</td>\n",
       "      <td>...</td>\n",
       "      <td>3.0</td>\n",
       "      <td>4.0</td>\n",
       "      <td>2.0</td>\n",
       "      <td>3.0</td>\n",
       "      <td>2.0</td>\n",
       "      <td>2.0</td>\n",
       "      <td>1.0</td>\n",
       "      <td>1.0</td>\n",
       "      <td>3.0</td>\n",
       "      <td>-0.400000</td>\n",
       "    </tr>\n",
       "    <tr>\n",
       "      <th>35668</th>\n",
       "      <td>beer.beer_SS98</td>\n",
       "      <td>361</td>\n",
       "      <td>7</td>\n",
       "      <td>Nov</td>\n",
       "      <td>1</td>\n",
       "      <td>12.990000</td>\n",
       "      <td>0</td>\n",
       "      <td>0</td>\n",
       "      <td>0</td>\n",
       "      <td>0</td>\n",
       "      <td>...</td>\n",
       "      <td>2.0</td>\n",
       "      <td>3.0</td>\n",
       "      <td>4.0</td>\n",
       "      <td>2.0</td>\n",
       "      <td>3.0</td>\n",
       "      <td>2.0</td>\n",
       "      <td>2.0</td>\n",
       "      <td>1.0</td>\n",
       "      <td>1.0</td>\n",
       "      <td>0.000000</td>\n",
       "    </tr>\n",
       "    <tr>\n",
       "      <th>35669</th>\n",
       "      <td>beer.beer_SS98</td>\n",
       "      <td>362</td>\n",
       "      <td>7</td>\n",
       "      <td>Dec</td>\n",
       "      <td>3</td>\n",
       "      <td>12.990000</td>\n",
       "      <td>0</td>\n",
       "      <td>0</td>\n",
       "      <td>0</td>\n",
       "      <td>0</td>\n",
       "      <td>...</td>\n",
       "      <td>1.0</td>\n",
       "      <td>2.0</td>\n",
       "      <td>3.0</td>\n",
       "      <td>4.0</td>\n",
       "      <td>2.0</td>\n",
       "      <td>3.0</td>\n",
       "      <td>2.0</td>\n",
       "      <td>2.0</td>\n",
       "      <td>1.0</td>\n",
       "      <td>0.000000</td>\n",
       "    </tr>\n",
       "    <tr>\n",
       "      <th>35670</th>\n",
       "      <td>beer.beer_SS98</td>\n",
       "      <td>363</td>\n",
       "      <td>7</td>\n",
       "      <td>Dec</td>\n",
       "      <td>1</td>\n",
       "      <td>11.990000</td>\n",
       "      <td>1</td>\n",
       "      <td>0</td>\n",
       "      <td>0</td>\n",
       "      <td>0</td>\n",
       "      <td>...</td>\n",
       "      <td>1.0</td>\n",
       "      <td>1.0</td>\n",
       "      <td>2.0</td>\n",
       "      <td>3.0</td>\n",
       "      <td>4.0</td>\n",
       "      <td>2.0</td>\n",
       "      <td>3.0</td>\n",
       "      <td>2.0</td>\n",
       "      <td>2.0</td>\n",
       "      <td>-1.000000</td>\n",
       "    </tr>\n",
       "    <tr>\n",
       "      <th>35671</th>\n",
       "      <td>beer.beer_SS98</td>\n",
       "      <td>364</td>\n",
       "      <td>7</td>\n",
       "      <td>Dec</td>\n",
       "      <td>1</td>\n",
       "      <td>12.990000</td>\n",
       "      <td>0</td>\n",
       "      <td>0</td>\n",
       "      <td>0</td>\n",
       "      <td>0</td>\n",
       "      <td>...</td>\n",
       "      <td>3.0</td>\n",
       "      <td>1.0</td>\n",
       "      <td>1.0</td>\n",
       "      <td>2.0</td>\n",
       "      <td>3.0</td>\n",
       "      <td>4.0</td>\n",
       "      <td>2.0</td>\n",
       "      <td>3.0</td>\n",
       "      <td>2.0</td>\n",
       "      <td>1.000000</td>\n",
       "    </tr>\n",
       "  </tbody>\n",
       "</table>\n",
       "<p>32032 rows × 35 columns</p>\n",
       "</div>"
      ],
      "text/plain": [
       "              product  week_no  year month  salesQ      price  promo_price  \\\n",
       "0       beer.beer_SS1        1     1   Jan      22   5.450909            1   \n",
       "1       beer.beer_SS1        2     1   Jan      12   6.450000            0   \n",
       "2       beer.beer_SS1        3     1   Jan      11   6.490000            0   \n",
       "3       beer.beer_SS1        4     1   Jan       4   6.490000            0   \n",
       "4       beer.beer_SS1        5     1   Feb       3   6.490000            0   \n",
       "...               ...      ...   ...   ...     ...        ...          ...   \n",
       "35667  beer.beer_SS98      360     7   Nov       1  12.990000            0   \n",
       "35668  beer.beer_SS98      361     7   Nov       1  12.990000            0   \n",
       "35669  beer.beer_SS98      362     7   Dec       3  12.990000            0   \n",
       "35670  beer.beer_SS98      363     7   Dec       1  11.990000            1   \n",
       "35671  beer.beer_SS98      364     7   Dec       1  12.990000            0   \n",
       "\n",
       "       display_1  display_2  catalog_1  ...  sales_2  sales_3  sales_4  \\\n",
       "0              1          0          0  ...      NaN      NaN      NaN   \n",
       "1              0          0          0  ...      NaN      NaN      NaN   \n",
       "2              0          0          0  ...     22.0      NaN      NaN   \n",
       "3              0          0          0  ...     12.0     22.0      NaN   \n",
       "4              0          0          0  ...     11.0     12.0     22.0   \n",
       "...          ...        ...        ...  ...      ...      ...      ...   \n",
       "35667          0          0          0  ...      3.0      4.0      2.0   \n",
       "35668          0          0          0  ...      2.0      3.0      4.0   \n",
       "35669          0          0          0  ...      1.0      2.0      3.0   \n",
       "35670          0          0          0  ...      1.0      1.0      2.0   \n",
       "35671          0          0          0  ...      3.0      1.0      1.0   \n",
       "\n",
       "       sales_5  sales_6  sales_7  sales_8  sales_9  sales_10  price_change  \n",
       "0          NaN      NaN      NaN      NaN      NaN       NaN           NaN  \n",
       "1          NaN      NaN      NaN      NaN      NaN       NaN      0.999091  \n",
       "2          NaN      NaN      NaN      NaN      NaN       NaN      0.040000  \n",
       "3          NaN      NaN      NaN      NaN      NaN       NaN      0.000000  \n",
       "4          NaN      NaN      NaN      NaN      NaN       NaN      0.000000  \n",
       "...        ...      ...      ...      ...      ...       ...           ...  \n",
       "35667      3.0      2.0      2.0      1.0      1.0       3.0     -0.400000  \n",
       "35668      2.0      3.0      2.0      2.0      1.0       1.0      0.000000  \n",
       "35669      4.0      2.0      3.0      2.0      2.0       1.0      0.000000  \n",
       "35670      3.0      4.0      2.0      3.0      2.0       2.0     -1.000000  \n",
       "35671      2.0      3.0      4.0      2.0      3.0       2.0      1.000000  \n",
       "\n",
       "[32032 rows x 35 columns]"
      ]
     },
     "execution_count": 22,
     "metadata": {},
     "output_type": "execute_result"
    }
   ],
   "source": [
    "df_train"
   ]
  },
  {
   "cell_type": "markdown",
   "id": "a7b32c2b-9635-40b9-a3a8-117b499dbc2b",
   "metadata": {},
   "source": [
    "I'll drop NaNs, as linear regression can't work with them; XGBoost, on the other hand, can"
   ]
  },
  {
   "cell_type": "code",
   "execution_count": 23,
   "id": "4e9b3b62-0f33-4710-9156-26481686ad03",
   "metadata": {},
   "outputs": [],
   "source": [
    "df_train = df_train.dropna()\n",
    "df_test = df_test.dropna()"
   ]
  },
  {
   "cell_type": "code",
   "execution_count": 24,
   "id": "00a49454-bdd1-427c-bd28-b7d311d8035a",
   "metadata": {},
   "outputs": [],
   "source": [
    "features = df_train.drop(columns=['product', 'month', 'salesQ', 'week_no', 'm1'])\n",
    "targets = df_train['salesQ'].values"
   ]
  },
  {
   "cell_type": "code",
   "execution_count": 25,
   "id": "f28e16cf-0f7e-43ee-8bb6-c87ef8b0b18e",
   "metadata": {},
   "outputs": [],
   "source": [
    "X_test, y_test = df_test.drop(columns=['product', 'salesQ', 'month', 'salesQ', 'week_no', 'm1']), df_test['salesQ'].values"
   ]
  },
  {
   "cell_type": "code",
   "execution_count": 26,
   "id": "89945b65-6fb3-4b17-a485-71d98419971b",
   "metadata": {},
   "outputs": [],
   "source": [
    "from sklearn.model_selection import train_test_split"
   ]
  },
  {
   "cell_type": "code",
   "execution_count": 27,
   "id": "d0ffc7ee-f556-4928-8f26-b8168cbf239a",
   "metadata": {},
   "outputs": [],
   "source": [
    "X_train, X_val, y_train, y_val = train_test_split(features, targets, test_size=0.2, random_state=1)"
   ]
  },
  {
   "cell_type": "code",
   "execution_count": 28,
   "id": "88542d03-6b2a-47b9-940f-45660d296436",
   "metadata": {},
   "outputs": [
    {
     "data": {
      "text/plain": [
       "((24921, 30), (6231, 30))"
      ]
     },
     "execution_count": 28,
     "metadata": {},
     "output_type": "execute_result"
    }
   ],
   "source": [
    "X_train.shape, X_val.shape"
   ]
  },
  {
   "cell_type": "markdown",
   "id": "b5294e7b-1525-40f1-863c-5b02082a6501",
   "metadata": {},
   "source": [
    "Let's train a Linear Regression model:"
   ]
  },
  {
   "cell_type": "code",
   "execution_count": 29,
   "id": "58b866c0-4824-4bc2-b9fc-3e5ab3fd6b10",
   "metadata": {},
   "outputs": [],
   "source": [
    "from sklearn.linear_model import LinearRegression\n",
    "from sklearn.metrics import mean_absolute_error"
   ]
  },
  {
   "cell_type": "code",
   "execution_count": 30,
   "id": "8a0bcfb1-ee65-42b7-95ab-feb6c5615cfd",
   "metadata": {},
   "outputs": [],
   "source": [
    "lr = LinearRegression().fit(X_train, y_train)"
   ]
  },
  {
   "cell_type": "code",
   "execution_count": 31,
   "id": "e9d76211-0853-4b39-9209-32fb17a206de",
   "metadata": {},
   "outputs": [
    {
     "data": {
      "text/plain": [
       "4.453948228285794"
      ]
     },
     "execution_count": 31,
     "metadata": {},
     "output_type": "execute_result"
    }
   ],
   "source": [
    "y_pred = lr.predict(X_val)\n",
    "mean_absolute_error(y_val, y_pred)"
   ]
  },
  {
   "cell_type": "code",
   "execution_count": 32,
   "id": "dab0ca6f-d83f-4789-ba76-b0f844e9440d",
   "metadata": {},
   "outputs": [
    {
     "data": {
      "text/plain": [
       "3.9578856310416333"
      ]
     },
     "execution_count": 32,
     "metadata": {},
     "output_type": "execute_result"
    }
   ],
   "source": [
    "y_pred = lr.predict(X_test)\n",
    "mean_absolute_error(y_test, y_pred)"
   ]
  },
  {
   "cell_type": "markdown",
   "id": "c8cd17b1-e163-4a34-8e42-59d135aa030d",
   "metadata": {},
   "source": [
    "So there are results on the test set. We can visualize the most important features:"
   ]
  },
  {
   "cell_type": "code",
   "execution_count": 33,
   "id": "a3dfd553-bb46-484a-b740-556ff70a9f76",
   "metadata": {},
   "outputs": [
    {
     "data": {
      "text/plain": [
       "<AxesSubplot:title={'center':'Feature coefficients'}>"
      ]
     },
     "execution_count": 33,
     "metadata": {},
     "output_type": "execute_result"
    },
    {
     "data": {
      "image/png": "[encoded data removed]",
      "text/plain": [
       "<Figure size 720x360 with 1 Axes>"
      ]
     },
     "metadata": {
      "needs_background": "light"
     },
     "output_type": "display_data"
    }
   ],
   "source": [
    "df_coeffs = pd.DataFrame(lr.coef_, lr.feature_names_in_).sort_values(by=0, key=abs, ascending=False)\n",
    "df_coeffs.plot(kind='bar', figsize=(10, 5), title='Feature coefficients')"
   ]
  },
  {
   "cell_type": "markdown",
   "id": "02e4350f-6270-46fe-b9b3-d01631bb9ae2",
   "metadata": {},
   "source": [
    "As we can see, the most important features are catalog_3, 4th July, price_change, display_2, promo_price and Labour Day; some of them raise demand and some reduce.   \n",
    "Now we can calculate price elasticity with the formula: `Coefficient (Slope) * Price mean / Quantity mean`"
   ]
  },
  {
   "cell_type": "code",
   "execution_count": 34,
   "id": "a4760ae1-a902-4d2b-a3ee-517b3f10d22e",
   "metadata": {},
   "outputs": [
    {
     "data": {
      "text/plain": [
       "-0.19379370577556626"
      ]
     },
     "execution_count": 34,
     "metadata": {},
     "output_type": "execute_result"
    }
   ],
   "source": [
    "slope = lr.coef_[1]\n",
    "slope"
   ]
  },
  {
   "cell_type": "code",
   "execution_count": 35,
   "id": "7a3ccdf4-bdac-4ef9-af9b-c54f10d30151",
   "metadata": {},
   "outputs": [
    {
     "data": {
      "text/plain": [
       "product\n",
       "beer.beer_SS1      7.323343\n",
       "beer.beer_SS10     8.495437\n",
       "beer.beer_SS11     3.507787\n",
       "beer.beer_SS14     1.642392\n",
       "beer.beer_SS15     1.683563\n",
       "                    ...    \n",
       "beer.beer_SS94    12.910228\n",
       "beer.beer_SS95    12.125317\n",
       "beer.beer_SS96     7.085574\n",
       "beer.beer_SS97    11.216410\n",
       "beer.beer_SS98    12.220423\n",
       "Name: price, Length: 88, dtype: float64"
      ]
     },
     "execution_count": 35,
     "metadata": {},
     "output_type": "execute_result"
    }
   ],
   "source": [
    "mean_price = df_train.groupby('product')['price'].mean()\n",
    "mean_price"
   ]
  },
  {
   "cell_type": "code",
   "execution_count": 36,
   "id": "96058de2-7986-45b5-b828-24e3bdc89c0d",
   "metadata": {},
   "outputs": [
    {
     "data": {
      "text/plain": [
       "product\n",
       "beer.beer_SS1      9.084746\n",
       "beer.beer_SS10     5.432203\n",
       "beer.beer_SS11    17.141243\n",
       "beer.beer_SS14    20.587571\n",
       "beer.beer_SS15    22.525424\n",
       "                    ...    \n",
       "beer.beer_SS94     9.502825\n",
       "beer.beer_SS95     4.214689\n",
       "beer.beer_SS96     3.686441\n",
       "beer.beer_SS97     4.610169\n",
       "beer.beer_SS98     3.183616\n",
       "Name: salesQ, Length: 88, dtype: float64"
      ]
     },
     "execution_count": 36,
     "metadata": {},
     "output_type": "execute_result"
    }
   ],
   "source": [
    "mean_quantity = df_train.groupby('product')['salesQ'].mean()\n",
    "mean_quantity"
   ]
  },
  {
   "cell_type": "code",
   "execution_count": 37,
   "id": "7b3ad4e0-3eac-425d-90d2-0ec687e44427",
   "metadata": {},
   "outputs": [
    {
     "data": {
      "text/plain": [
       "product\n",
       "beer.beer_SS1    -0.156220\n",
       "beer.beer_SS10   -0.303074\n",
       "beer.beer_SS11   -0.039658\n",
       "beer.beer_SS14   -0.015460\n",
       "beer.beer_SS15   -0.014484\n",
       "                    ...   \n",
       "beer.beer_SS94   -0.263282\n",
       "beer.beer_SS95   -0.557529\n",
       "beer.beer_SS96   -0.372484\n",
       "beer.beer_SS97   -0.471495\n",
       "beer.beer_SS98   -0.743884\n",
       "Length: 88, dtype: float64"
      ]
     },
     "execution_count": 37,
     "metadata": {},
     "output_type": "execute_result"
    }
   ],
   "source": [
    "price_elasticity = slope * mean_price / mean_quantity\n",
    "price_elasticity"
   ]
  },
  {
   "cell_type": "code",
   "execution_count": 38,
   "id": "69c79a7a-b914-4cc1-b9de-2740e1c01cb4",
   "metadata": {},
   "outputs": [
    {
     "data": {
      "text/plain": [
       "<AxesSubplot:xlabel='product'>"
      ]
     },
     "execution_count": 38,
     "metadata": {},
     "output_type": "execute_result"
    },
    {
     "data": {
      "image/png": "[encoded data removed]",
      "text/plain": [
       "<Figure size 1440x360 with 1 Axes>"
      ]
     },
     "metadata": {
      "needs_background": "light"
     },
     "output_type": "display_data"
    }
   ],
   "source": [
    "price_elasticity.plot(kind='bar', figsize=(20, 5))"
   ]
  },
  {
   "cell_type": "code",
   "execution_count": 39,
   "id": "5ae27e14-2abe-4cef-9da7-f400b5e74637",
   "metadata": {},
   "outputs": [
    {
     "data": {
      "text/plain": [
       "-0.23286050403244885"
      ]
     },
     "execution_count": 39,
     "metadata": {},
     "output_type": "execute_result"
    }
   ],
   "source": [
    "price_elasticity.mean()"
   ]
  },
  {
   "cell_type": "markdown",
   "id": "c42fef01-1124-4b31-a4bc-8e2b999dd373",
   "metadata": {},
   "source": [
    "According to Wikipedia, Alcoholic beverages in US have elasticity about −0.3; sounds about right.   \n",
    "Now I'd like to try XGBoost model"
   ]
  },
  {
   "cell_type": "code",
   "execution_count": 40,
   "id": "f91eedf3-6058-44b0-ad48-47d6ab4a9588",
   "metadata": {},
   "outputs": [],
   "source": [
    "from xgboost import XGBRegressor, DMatrix, train"
   ]
  },
  {
   "cell_type": "code",
   "execution_count": 41,
   "id": "6f848f3e-8474-45bd-a026-a548e7b4c314",
   "metadata": {},
   "outputs": [],
   "source": [
    "matrix_train = DMatrix(X_train, label=y_train)\n",
    "matrix_val = DMatrix(X_val, label=y_val)\n",
    "matrix_test = DMatrix(X_test)"
   ]
  },
  {
   "cell_type": "code",
   "execution_count": 42,
   "id": "d7480392-ee61-4b93-8676-e00ae084fd60",
   "metadata": {},
   "outputs": [
    {
     "name": "stdout",
     "output_type": "stream",
     "text": [
      "[12:47:20] WARNING: C:/buildkite-agent/builds/buildkite-windows-cpu-autoscaling-group-i-08de971ced8a8cdc6-1/xgboost/xgboost-ci-windows/src/objective/regression_obj.cu:213: reg:linear is now deprecated in favor of reg:squarederror.\n",
      "[0]\tval-mae:8.94073\tval-rmse:15.11393\n",
      "[1]\tval-mae:6.73091\tval-rmse:11.80118\n",
      "[2]\tval-mae:5.43888\tval-rmse:9.68033\n",
      "[3]\tval-mae:4.74005\tval-rmse:8.37876\n",
      "[4]\tval-mae:4.38285\tval-rmse:7.63566\n",
      "[5]\tval-mae:4.19668\tval-rmse:7.16983\n",
      "[6]\tval-mae:4.10995\tval-rmse:6.91205\n",
      "[7]\tval-mae:4.07640\tval-rmse:6.80352\n",
      "[8]\tval-mae:4.04833\tval-rmse:6.70479\n",
      "[9]\tval-mae:4.03126\tval-rmse:6.64798\n",
      "[10]\tval-mae:4.01876\tval-rmse:6.60174\n",
      "[11]\tval-mae:4.01192\tval-rmse:6.57268\n",
      "[12]\tval-mae:4.00068\tval-rmse:6.53652\n",
      "[13]\tval-mae:3.99816\tval-rmse:6.52513\n",
      "[14]\tval-mae:3.98323\tval-rmse:6.49744\n",
      "[15]\tval-mae:3.97607\tval-rmse:6.48254\n",
      "[16]\tval-mae:3.96642\tval-rmse:6.46192\n",
      "[17]\tval-mae:3.96925\tval-rmse:6.46870\n",
      "[18]\tval-mae:3.95851\tval-rmse:6.46243\n",
      "[19]\tval-mae:3.95717\tval-rmse:6.45652\n",
      "[20]\tval-mae:3.95205\tval-rmse:6.43999\n",
      "[21]\tval-mae:3.95272\tval-rmse:6.44421\n",
      "[22]\tval-mae:3.95120\tval-rmse:6.44153\n",
      "[23]\tval-mae:3.94741\tval-rmse:6.44029\n",
      "[24]\tval-mae:3.93586\tval-rmse:6.41807\n",
      "[25]\tval-mae:3.93210\tval-rmse:6.41212\n",
      "[26]\tval-mae:3.93598\tval-rmse:6.41693\n",
      "[27]\tval-mae:3.93311\tval-rmse:6.41715\n",
      "[28]\tval-mae:3.93406\tval-rmse:6.41772\n",
      "[29]\tval-mae:3.93182\tval-rmse:6.41520\n",
      "[30]\tval-mae:3.92608\tval-rmse:6.41062\n",
      "[31]\tval-mae:3.92684\tval-rmse:6.41167\n",
      "[32]\tval-mae:3.92705\tval-rmse:6.41174\n",
      "[33]\tval-mae:3.93294\tval-rmse:6.41904\n",
      "[34]\tval-mae:3.92902\tval-rmse:6.41354\n",
      "[35]\tval-mae:3.92570\tval-rmse:6.40445\n",
      "[36]\tval-mae:3.92437\tval-rmse:6.40231\n",
      "[37]\tval-mae:3.92445\tval-rmse:6.40356\n",
      "[38]\tval-mae:3.92434\tval-rmse:6.40286\n",
      "[39]\tval-mae:3.92051\tval-rmse:6.40072\n",
      "[40]\tval-mae:3.92056\tval-rmse:6.39934\n",
      "[41]\tval-mae:3.91549\tval-rmse:6.39221\n",
      "[42]\tval-mae:3.91643\tval-rmse:6.39264\n",
      "[43]\tval-mae:3.91846\tval-rmse:6.39568\n",
      "[44]\tval-mae:3.92043\tval-rmse:6.40242\n",
      "[45]\tval-mae:3.91637\tval-rmse:6.39184\n",
      "[46]\tval-mae:3.91474\tval-rmse:6.38959\n",
      "[47]\tval-mae:3.91299\tval-rmse:6.38268\n",
      "[48]\tval-mae:3.91077\tval-rmse:6.37812\n",
      "[49]\tval-mae:3.90808\tval-rmse:6.37732\n",
      "[50]\tval-mae:3.90878\tval-rmse:6.37686\n",
      "[51]\tval-mae:3.90436\tval-rmse:6.36804\n",
      "[52]\tval-mae:3.90639\tval-rmse:6.37541\n",
      "[53]\tval-mae:3.90584\tval-rmse:6.37278\n",
      "[54]\tval-mae:3.90523\tval-rmse:6.36908\n",
      "[55]\tval-mae:3.90587\tval-rmse:6.36933\n",
      "[56]\tval-mae:3.90578\tval-rmse:6.36858\n",
      "[57]\tval-mae:3.90539\tval-rmse:6.36890\n",
      "[58]\tval-mae:3.90558\tval-rmse:6.36912\n",
      "[59]\tval-mae:3.90130\tval-rmse:6.36390\n",
      "[60]\tval-mae:3.90207\tval-rmse:6.36500\n",
      "[61]\tval-mae:3.90275\tval-rmse:6.36414\n",
      "[62]\tval-mae:3.90268\tval-rmse:6.36210\n",
      "[63]\tval-mae:3.90705\tval-rmse:6.36539\n",
      "[64]\tval-mae:3.90782\tval-rmse:6.36509\n",
      "[65]\tval-mae:3.90404\tval-rmse:6.36082\n",
      "[66]\tval-mae:3.89966\tval-rmse:6.35673\n",
      "[67]\tval-mae:3.89807\tval-rmse:6.35186\n",
      "[68]\tval-mae:3.89668\tval-rmse:6.34793\n",
      "[69]\tval-mae:3.89868\tval-rmse:6.35096\n",
      "[70]\tval-mae:3.89580\tval-rmse:6.34894\n",
      "[71]\tval-mae:3.89532\tval-rmse:6.34415\n",
      "[72]\tval-mae:3.89367\tval-rmse:6.34173\n",
      "[73]\tval-mae:3.89612\tval-rmse:6.34462\n",
      "[74]\tval-mae:3.89571\tval-rmse:6.34411\n",
      "[75]\tval-mae:3.89704\tval-rmse:6.34407\n",
      "[76]\tval-mae:3.89740\tval-rmse:6.34509\n",
      "[77]\tval-mae:3.89337\tval-rmse:6.33675\n",
      "[78]\tval-mae:3.89387\tval-rmse:6.33707\n",
      "[79]\tval-mae:3.89365\tval-rmse:6.33570\n",
      "[80]\tval-mae:3.89166\tval-rmse:6.33551\n",
      "[81]\tval-mae:3.89032\tval-rmse:6.33200\n",
      "[82]\tval-mae:3.88872\tval-rmse:6.32793\n",
      "[83]\tval-mae:3.88929\tval-rmse:6.33283\n",
      "[84]\tval-mae:3.88971\tval-rmse:6.33315\n",
      "[85]\tval-mae:3.88791\tval-rmse:6.33297\n",
      "[86]\tval-mae:3.88725\tval-rmse:6.33063\n",
      "[87]\tval-mae:3.88669\tval-rmse:6.32934\n",
      "[88]\tval-mae:3.88490\tval-rmse:6.32725\n",
      "[89]\tval-mae:3.88375\tval-rmse:6.32601\n",
      "[90]\tval-mae:3.88296\tval-rmse:6.32397\n",
      "[91]\tval-mae:3.88348\tval-rmse:6.32647\n",
      "[92]\tval-mae:3.88413\tval-rmse:6.33137\n",
      "[93]\tval-mae:3.88221\tval-rmse:6.32594\n",
      "[94]\tval-mae:3.88391\tval-rmse:6.32773\n",
      "[95]\tval-mae:3.88134\tval-rmse:6.31726\n",
      "[96]\tval-mae:3.88073\tval-rmse:6.31818\n",
      "[97]\tval-mae:3.87967\tval-rmse:6.31734\n",
      "[98]\tval-mae:3.87814\tval-rmse:6.31757\n",
      "[99]\tval-mae:3.87620\tval-rmse:6.31625\n",
      "[100]\tval-mae:3.87358\tval-rmse:6.31239\n",
      "[101]\tval-mae:3.87490\tval-rmse:6.31543\n",
      "[102]\tval-mae:3.87444\tval-rmse:6.31394\n",
      "[103]\tval-mae:3.87312\tval-rmse:6.31247\n",
      "[104]\tval-mae:3.87265\tval-rmse:6.31520\n",
      "[105]\tval-mae:3.87370\tval-rmse:6.32025\n",
      "[106]\tval-mae:3.87470\tval-rmse:6.32239\n",
      "[107]\tval-mae:3.87625\tval-rmse:6.32488\n",
      "[108]\tval-mae:3.87974\tval-rmse:6.32559\n",
      "[109]\tval-mae:3.88040\tval-rmse:6.32509\n",
      "[110]\tval-mae:3.87603\tval-rmse:6.31775\n",
      "[111]\tval-mae:3.87652\tval-rmse:6.32053\n",
      "[112]\tval-mae:3.87804\tval-rmse:6.32102\n",
      "[113]\tval-mae:3.87862\tval-rmse:6.32206\n",
      "[114]\tval-mae:3.87961\tval-rmse:6.32416\n",
      "[115]\tval-mae:3.88245\tval-rmse:6.32502\n",
      "[116]\tval-mae:3.88288\tval-rmse:6.32597\n",
      "[117]\tval-mae:3.88540\tval-rmse:6.32930\n",
      "[118]\tval-mae:3.88319\tval-rmse:6.32625\n",
      "[119]\tval-mae:3.88283\tval-rmse:6.32509\n",
      "[120]\tval-mae:3.88370\tval-rmse:6.32896\n"
     ]
    }
   ],
   "source": [
    "model = train(params={'objective': 'reg:linear', 'eval_metric': ['mae', 'rmse']}, dtrain=matrix_train, num_boost_round=500, early_stopping_rounds=20, evals=[(matrix_val, 'val')])"
   ]
  },
  {
   "cell_type": "code",
   "execution_count": 43,
   "id": "37cbf2c2-ab77-4c6e-b358-c0c05ea54515",
   "metadata": {},
   "outputs": [],
   "source": [
    "y_pred = model.predict(matrix_test)"
   ]
  },
  {
   "cell_type": "code",
   "execution_count": 44,
   "id": "c16b1a70-8350-4061-96b3-24d660798712",
   "metadata": {},
   "outputs": [
    {
     "data": {
      "text/plain": [
       "array([ 8.369438 ,  5.6341796,  4.982959 , ..., 20.879164 , 22.074236 ,\n",
       "       17.038345 ], dtype=float32)"
      ]
     },
     "execution_count": 44,
     "metadata": {},
     "output_type": "execute_result"
    }
   ],
   "source": [
    "y_pred"
   ]
  },
  {
   "cell_type": "code",
   "execution_count": 45,
   "id": "e9f89ef7-4816-40bf-a44f-5db30b889ee3",
   "metadata": {},
   "outputs": [
    {
     "data": {
      "text/plain": [
       "array([ 5,  1, 10, ..., 17, 24,  9], dtype=int64)"
      ]
     },
     "execution_count": 45,
     "metadata": {},
     "output_type": "execute_result"
    }
   ],
   "source": [
    "y_test"
   ]
  },
  {
   "cell_type": "code",
   "execution_count": 46,
   "id": "c3f8cfdc-04a6-4351-8c3c-d0c0a25921b7",
   "metadata": {},
   "outputs": [
    {
     "data": {
      "text/plain": [
       "3.6521311751529995"
      ]
     },
     "execution_count": 46,
     "metadata": {},
     "output_type": "execute_result"
    }
   ],
   "source": [
    "mean_absolute_error(y_pred, y_test)"
   ]
  },
  {
   "cell_type": "markdown",
   "id": "6983f34c-af9d-4877-b215-95956ee3e7c4",
   "metadata": {},
   "source": [
    "Now we got a bit better result; it shows the advanages of the boosting model."
   ]
  }
 ],
 "metadata": {
  "kernelspec": {
   "display_name": "Python 3 (ipykernel)",
   "language": "python",
   "name": "python3"
  },
  "language_info": {
   "codemirror_mode": {
    "name": "ipython",
    "version": 3
   },
   "file_extension": ".py",
   "mimetype": "text/x-python",
   "name": "python",
   "nbconvert_exporter": "python",
   "pygments_lexer": "ipython3",
   "version": "3.8.5"
  }
 },
 "nbformat": 4,
 "nbformat_minor": 5
}
